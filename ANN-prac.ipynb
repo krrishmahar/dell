{
 "cells": [
  {
   "cell_type": "code",
   "execution_count": 99,
   "id": "5191ef33-9722-4aab-93d5-70d6650e804f",
   "metadata": {},
   "outputs": [],
   "source": [
    "import tensorflow as tf"
   ]
  },
  {
   "cell_type": "code",
   "execution_count": 100,
   "id": "0e8feeaf-a3ca-48a8-80dd-11d015141161",
   "metadata": {},
   "outputs": [
    {
     "name": "stdout",
     "output_type": "stream",
     "text": [
      "2.18.0\n"
     ]
    }
   ],
   "source": [
    "print(tf.__version__)"
   ]
  },
  {
   "cell_type": "markdown",
   "id": "1871ae5b-8dae-4f11-b2ea-26926e06600d",
   "metadata": {},
   "source": [
    "## Importing Liraries"
   ]
  },
  {
   "cell_type": "code",
   "execution_count": 101,
   "id": "761092e8-3f98-4bfa-b0bf-bc2d6c1a637b",
   "metadata": {},
   "outputs": [],
   "source": [
    "import pandas as pd\n",
    "import numpy as np\n",
    "import matplotlib.pyplot as plt\n",
    "%matplotlib inline"
   ]
  },
  {
   "cell_type": "code",
   "execution_count": 103,
   "id": "38d8b31d-57e5-4526-85d0-4dc8543a3380",
   "metadata": {
    "scrolled": true
   },
   "outputs": [],
   "source": [
    "dataset=pd.read_csv('creditcard.csv')\n",
    "# df = df.dropna().reset_index(drop=True)\n"
   ]
  },
  {
   "cell_type": "code",
   "execution_count": 104,
   "id": "8e3fb36f-ab01-4a8e-abf2-ae2882b188b4",
   "metadata": {},
   "outputs": [],
   "source": [
    "## Divide dataset to dependent and independent features\n",
    "X=dataset.iloc[:, 1:-1]\n",
    "y=dataset.iloc[:,-1]"
   ]
  },
  {
   "cell_type": "markdown",
   "id": "d950839a-242c-4505-ba63-6ad1822666d2",
   "metadata": {},
   "source": [
    "### Split into train-test-split "
   ]
  },
  {
   "cell_type": "code",
   "execution_count": 105,
   "id": "bd87bae8-90ef-43d9-a5bc-d21962103565",
   "metadata": {},
   "outputs": [],
   "source": [
    "from sklearn.model_selection import train_test_split\n",
    "X_train,X_test,y_train,y_test = train_test_split(X,y,test_size=0.2, random_state=42)"
   ]
  },
  {
   "cell_type": "markdown",
   "id": "c2b22c85-d9e9-46ce-8730-c5c15b3bf915",
   "metadata": {},
   "source": [
    "## Feature Scaling"
   ]
  },
  {
   "cell_type": "code",
   "execution_count": 106,
   "id": "5dc7f64d-6e81-4491-bb8d-4a5a637b576a",
   "metadata": {},
   "outputs": [],
   "source": [
    "from sklearn.preprocessing import StandardScaler\n",
    "sc=StandardScaler()\n",
    "X_train=sc.fit_transform(X_train)\n",
    "X_test=sc.transform(X_test)"
   ]
  },
  {
   "cell_type": "code",
   "execution_count": 107,
   "id": "f2013ba4-829d-47d2-ab39-2d42eb12ee8d",
   "metadata": {
    "scrolled": true
   },
   "outputs": [
    {
     "data": {
      "text/plain": [
       "array([ 0.99785119, -0.22962626, -0.20738468,  0.23421529, -0.36779128,\n",
       "       -0.0640219 , -0.50588871,  0.03060393,  0.95995457, -0.02686352,\n",
       "        0.61149957,  1.68999033,  1.26149805, -0.26397318, -0.36292946,\n",
       "        0.34942719, -1.09376318,  0.77802759,  0.20615616, -0.1625072 ,\n",
       "        0.32483903,  1.3366986 ,  0.08456891, -0.45980186, -0.08436785,\n",
       "       -0.44894226,  0.11248883, -0.14374055, -0.30788875])"
      ]
     },
     "execution_count": 107,
     "metadata": {},
     "output_type": "execute_result"
    }
   ],
   "source": [
    "X_train[0]"
   ]
  },
  {
   "cell_type": "code",
   "execution_count": 108,
   "id": "b0eb309d-46cb-4e4b-b8d1-801f09920340",
   "metadata": {},
   "outputs": [
    {
     "data": {
      "text/plain": [
       "223361    0\n",
       "165061    0\n",
       "238186    0\n",
       "150562    0\n",
       "138452    0\n",
       "         ..\n",
       "119879    0\n",
       "259178    0\n",
       "131932    0\n",
       "146867    0\n",
       "121958    0\n",
       "Name: Class, Length: 227845, dtype: int64"
      ]
     },
     "execution_count": 108,
     "metadata": {},
     "output_type": "execute_result"
    }
   ],
   "source": [
    "y_train"
   ]
  },
  {
   "cell_type": "code",
   "execution_count": 109,
   "id": "ee3c6e28-a300-4255-ae95-10a13167a24c",
   "metadata": {},
   "outputs": [
    {
     "data": {
      "text/plain": [
       "array([[ -8.43953559,   5.18252006, -12.31324997, ...,  -5.02350367,\n",
       "         -3.16294175,   1.0815138 ],\n",
       "       [  0.1730534 ,  -1.65602032,  -0.08791401, ...,   0.10210496,\n",
       "          0.30863538,   1.69317258],\n",
       "       [  0.71421679,  -0.35634288,   0.11194078, ...,   0.02847206,\n",
       "          0.013272  ,  -0.22547388],\n",
       "       ...,\n",
       "       [  0.02018331,  -0.06601034,  -0.83557264, ...,   0.89063984,\n",
       "          1.0738269 ,  -0.31714621],\n",
       "       [ -0.25325795,   0.59873588,   1.10429699, ...,   0.10094377,\n",
       "         -0.81883766,  -0.33299371],\n",
       "       [ -0.81263064,   0.59930001,  -0.33800407, ...,   0.31303049,\n",
       "         -1.8421089 ,   3.2080607 ]])"
      ]
     },
     "execution_count": 109,
     "metadata": {},
     "output_type": "execute_result"
    }
   ],
   "source": [
    "X_test"
   ]
  },
  {
   "cell_type": "code",
   "execution_count": 110,
   "id": "378d055d-0a7b-4972-b805-aa238eb3a77b",
   "metadata": {},
   "outputs": [
    {
     "name": "stdout",
     "output_type": "stream",
     "text": [
      "(227845, 29) (56962, 29)\n"
     ]
    }
   ],
   "source": [
    "print(X_train.shape, X_test.shape)"
   ]
  },
  {
   "cell_type": "markdown",
   "id": "be9dcc48-2a67-4dcd-92ff-690d6ad35e64",
   "metadata": {},
   "source": [
    "## Part 2: Creating an ANN "
   ]
  },
  {
   "cell_type": "code",
   "execution_count": 111,
   "id": "5220b27b-c68a-4cee-8f43-4f930754a8d7",
   "metadata": {},
   "outputs": [],
   "source": [
    "from tensorflow.keras.models import Sequential\n",
    "from tensorflow.keras.layers import Dense\n",
    "from tensorflow.keras.layers import LeakyReLU,PReLU,ELU,ReLU\n",
    "from tensorflow.keras.layers import Dropout"
   ]
  },
  {
   "cell_type": "code",
   "execution_count": 112,
   "id": "d4ffc8e5-8541-4ca2-8f12-aa90efac5b3a",
   "metadata": {},
   "outputs": [],
   "source": [
    "# Initialize the ANN\n",
    "classifier=Sequential()"
   ]
  },
  {
   "cell_type": "code",
   "execution_count": 113,
   "id": "34da852a-9005-4fe3-8fd3-2a60f859272b",
   "metadata": {},
   "outputs": [],
   "source": [
    "# Adding the Input layer\n",
    "classifier.add(Dense(units=11, activation='relu'))"
   ]
  },
  {
   "cell_type": "code",
   "execution_count": 114,
   "id": "5a0129d6-d8fc-451f-81d6-bca9aae6ab35",
   "metadata": {},
   "outputs": [],
   "source": [
    "# Adding the 1st hidden layer with dropout layer \n",
    "classifier.add(Dense(units=7))\n",
    "classifier.add(Dropout(.3))"
   ]
  },
  {
   "cell_type": "code",
   "execution_count": 115,
   "id": "616c83fd-9a16-4632-a12a-54923ca53f15",
   "metadata": {},
   "outputs": [],
   "source": [
    "classifier.add(Dense(units=6))\n",
    "classifier.add(Dropout(0.5))"
   ]
  },
  {
   "cell_type": "code",
   "execution_count": 116,
   "id": "36cdc7de-a996-4ed5-aa65-2b3afe9856a8",
   "metadata": {},
   "outputs": [],
   "source": [
    "classifier.add(Dense(units=1, activation='sigmoid'))"
   ]
  },
  {
   "cell_type": "code",
   "execution_count": 117,
   "id": "0ef01852-3838-46f0-8789-dac838cebc97",
   "metadata": {},
   "outputs": [],
   "source": [
    "classifier.compile(optimizer='adam', loss='binary_crossentropy', metrics=['accuracy'])"
   ]
  },
  {
   "cell_type": "code",
   "execution_count": 118,
   "id": "4f8d3b63-c0f6-4664-8f3e-4ab8e8d70b12",
   "metadata": {},
   "outputs": [],
   "source": [
    "import tensorflow\n",
    "opt = tensorflow.keras.optimizers.Adam(learning_rate=0.01)"
   ]
  },
  {
   "cell_type": "code",
   "execution_count": 119,
   "id": "d76566bc-e92c-409b-96fe-7670edc44f8c",
   "metadata": {},
   "outputs": [],
   "source": [
    "# Early Stopping \n",
    "import tensorflow as tf\n",
    "early_stopping=tf.keras.callbacks.EarlyStopping(\n",
    "    monitor=\"val_loss\",\n",
    "    min_delta=0.0001,\n",
    "    patience=20,\n",
    "    verbose=1,\n",
    "    mode=\"auto\",\n",
    "    baseline=None,\n",
    "    restore_best_weights=False,\n",
    "    start_from_epoch=0,\n",
    ")\n"
   ]
  },
  {
   "cell_type": "code",
   "execution_count": 120,
   "id": "5014d5da-25ad-4682-b2b0-21af1a950de0",
   "metadata": {
    "scrolled": true
   },
   "outputs": [
    {
     "name": "stdout",
     "output_type": "stream",
     "text": [
      "Epoch 1/5\n",
      "\u001b[1m15266/15266\u001b[0m \u001b[32m━━━━━━━━━━━━━━━━━━━━\u001b[0m\u001b[37m\u001b[0m \u001b[1m68s\u001b[0m 4ms/step - accuracy: 0.9869 - loss: 0.0589 - val_accuracy: 0.9989 - val_loss: 0.0047\n",
      "Epoch 2/5\n",
      "\u001b[1m15266/15266\u001b[0m \u001b[32m━━━━━━━━━━━━━━━━━━━━\u001b[0m\u001b[37m\u001b[0m \u001b[1m64s\u001b[0m 4ms/step - accuracy: 0.9990 - loss: 0.0059 - val_accuracy: 0.9993 - val_loss: 0.0041\n",
      "Epoch 3/5\n",
      "\u001b[1m15266/15266\u001b[0m \u001b[32m━━━━━━━━━━━━━━━━━━━━\u001b[0m\u001b[37m\u001b[0m \u001b[1m68s\u001b[0m 4ms/step - accuracy: 0.9992 - loss: 0.0044 - val_accuracy: 0.9993 - val_loss: 0.0041\n",
      "Epoch 4/5\n",
      "\u001b[1m15266/15266\u001b[0m \u001b[32m━━━━━━━━━━━━━━━━━━━━\u001b[0m\u001b[37m\u001b[0m \u001b[1m71s\u001b[0m 5ms/step - accuracy: 0.9990 - loss: 0.0050 - val_accuracy: 0.9993 - val_loss: 0.0036\n",
      "Epoch 5/5\n",
      "\u001b[1m15266/15266\u001b[0m \u001b[32m━━━━━━━━━━━━━━━━━━━━\u001b[0m\u001b[37m\u001b[0m \u001b[1m68s\u001b[0m 4ms/step - accuracy: 0.9992 - loss: 0.0036 - val_accuracy: 0.9994 - val_loss: 0.0034\n"
     ]
    }
   ],
   "source": [
    "model_history = classifier.fit(X_train,y_train,validation_split=0.33, batch_size=10, epochs=5, callbacks=early_stopping)"
   ]
  },
  {
   "cell_type": "code",
   "execution_count": 121,
   "id": "8038ee87-64fc-4da3-8820-4292271f9f67",
   "metadata": {},
   "outputs": [
    {
     "data": {
      "text/plain": [
       "dict_keys(['accuracy', 'loss', 'val_accuracy', 'val_loss'])"
      ]
     },
     "execution_count": 121,
     "metadata": {},
     "output_type": "execute_result"
    }
   ],
   "source": [
    "model_history.history.keys()"
   ]
  },
  {
   "cell_type": "code",
   "execution_count": 122,
   "id": "65d0bcf5-ac39-48cd-8914-1314eb4501ec",
   "metadata": {},
   "outputs": [
    {
     "data": {
      "text/plain": [
       "<matplotlib.legend.Legend at 0x1d391d86960>"
      ]
     },
     "execution_count": 122,
     "metadata": {},
     "output_type": "execute_result"
    },
    {
     "data": {
      "image/png": "[encoded data removed]",
      "text/plain": [
       "<Figure size 640x480 with 1 Axes>"
      ]
     },
     "metadata": {},
     "output_type": "display_data"
    }
   ],
   "source": [
    "# summarize the history for accuracy\n",
    "plt.plot(model_history.history['accuracy'])\n",
    "plt.plot(model_history.history['val_accuracy'])\n",
    "plt.title('model accuracy')\n",
    "plt.ylabel('accuracy')\n",
    "plt.xlabel('epoch')\n",
    "plt.legend(['train','test'], loc='upper left')"
   ]
  },
  {
   "cell_type": "code",
   "execution_count": 123,
   "id": "8d681f07-43d4-4894-8269-698645018540",
   "metadata": {},
   "outputs": [
    {
     "data": {
      "text/plain": [
       "<matplotlib.legend.Legend at 0x1d390228e00>"
      ]
     },
     "execution_count": 123,
     "metadata": {},
     "output_type": "execute_result"
    },
    {
     "data": {
      "image/png": "[encoded data removed]",
      "text/plain": [
       "<Figure size 640x480 with 1 Axes>"
      ]
     },
     "metadata": {},
     "output_type": "display_data"
    }
   ],
   "source": [
    "# summarize the history for accuracy\n",
    "plt.plot(model_history.history['loss'])\n",
    "plt.plot(model_history.history['val_loss'])\n",
    "plt.title('model loss')\n",
    "plt.ylabel('loss')\n",
    "plt.xlabel('epoch')\n",
    "plt.legend(['train','test'], loc='upper left')"
   ]
  },
  {
   "cell_type": "markdown",
   "id": "8e319296-834e-4d4d-9bf1-82f2439a5dcd",
   "metadata": {},
   "source": [
    "## Predicting the Test values"
   ]
  },
  {
   "cell_type": "code",
   "execution_count": 124,
   "id": "8211355f-cea5-4588-bead-3aea2272516f",
   "metadata": {},
   "outputs": [
    {
     "name": "stdout",
     "output_type": "stream",
     "text": [
      "\u001b[1m1781/1781\u001b[0m \u001b[32m━━━━━━━━━━━━━━━━━━━━\u001b[0m\u001b[37m\u001b[0m \u001b[1m3s\u001b[0m 2ms/step\n"
     ]
    }
   ],
   "source": [
    "# Making the prediction and evaluating the model\n",
    "y_pred=classifier.predict(X_test)\n",
    "y_pred = (y_pred >= 0.5)"
   ]
  },
  {
   "cell_type": "code",
   "execution_count": 125,
   "id": "9086bbe2-6094-4909-8e54-dfd902f29a7d",
   "metadata": {},
   "outputs": [
    {
     "data": {
      "text/plain": [
       "array([[56856,     8],\n",
       "       [   34,    64]])"
      ]
     },
     "execution_count": 125,
     "metadata": {},
     "output_type": "execute_result"
    }
   ],
   "source": [
    "# confusion matrix (WITHOUT DROPOUT LAYER)\n",
    "from sklearn.metrics import confusion_matrix\n",
    "cm=confusion_matrix(y_test, y_pred)\n",
    "cm"
   ]
  },
  {
   "cell_type": "code",
   "execution_count": 126,
   "id": "665bc26f-1cdf-4ba7-a58b-da1f0fd40bd9",
   "metadata": {},
   "outputs": [
    {
     "data": {
      "text/plain": [
       "array([[56856,     8],\n",
       "       [   34,    64]])"
      ]
     },
     "execution_count": 126,
     "metadata": {},
     "output_type": "execute_result"
    }
   ],
   "source": [
    "# confusion matrix(WITH DROPOUT LAYER)\n",
    "from sklearn.metrics import confusion_matrix\n",
    "cm=confusion_matrix(y_test, y_pred)\n",
    "cm"
   ]
  },
  {
   "cell_type": "code",
   "execution_count": 127,
   "id": "c19923ae-7b22-41d1-a073-b854352874bd",
   "metadata": {},
   "outputs": [
    {
     "data": {
      "text/plain": [
       "0.9992626663389628"
      ]
     },
     "execution_count": 127,
     "metadata": {},
     "output_type": "execute_result"
    }
   ],
   "source": [
    "# calculate the accuracy\n",
    "from sklearn.metrics import accuracy_score\n",
    "score=accuracy_score(y_pred,y_test)\n",
    "score"
   ]
  },
  {
   "cell_type": "markdown",
   "id": "5e0ce961-91fc-481f-9a0b-6edf93699981",
   "metadata": {},
   "source": [
    "## Test input "
   ]
  },
  {
   "cell_type": "code",
   "execution_count": 143,
   "id": "eb25f8a5-a51a-4c43-84a6-aca48f250374",
   "metadata": {},
   "outputs": [],
   "source": [
    "new_input = np.array([-1.64, 1.52, -1.609850732,\t3.997905588,\t-0.522187865,\t-1.426545319,\t-2.537387306,\t1.391657248,\t-2.770089277,\t-2.772272145,\t3.202033207,\t-2.899907388,\t-0.595221881,\t-4.289253782,\t0.38972412,\t-1.14074718,\t-2.830055675,\t-0.016822468,\t0.416955705,\t0.126910559,\t0.517232371,\t-0.035049369,\t-0.465211076,\t0.320198199,\t0.044519167,\t0.177839798,\t0.261145003,\t-0.143275875, 0])\n",
    "output = np.array([1]) # value is True, bitch is Fraud"
   ]
  },
  {
   "cell_type": "code",
   "execution_count": 144,
   "id": "9c542b69-6546-4bc0-9b66-396f06b49b13",
   "metadata": {},
   "outputs": [
    {
     "data": {
      "text/plain": [
       "((56962, 29), (29,))"
      ]
     },
     "execution_count": 144,
     "metadata": {},
     "output_type": "execute_result"
    }
   ],
   "source": [
    "X_test.shape, new_input.shape"
   ]
  },
  {
   "cell_type": "code",
   "execution_count": 145,
   "id": "d97538e4-f78d-4b2b-9ff3-49d02dd9d79a",
   "metadata": {},
   "outputs": [
    {
     "name": "stdout",
     "output_type": "stream",
     "text": [
      "\u001b[1m1/1\u001b[0m \u001b[32m━━━━━━━━━━━━━━━━━━━━\u001b[0m\u001b[37m\u001b[0m \u001b[1m0s\u001b[0m 69ms/step\n"
     ]
    }
   ],
   "source": [
    "pred=classifier.predict(new_input.reshape(1,-1))\n",
    "pred = (pred >= 0.5)"
   ]
  },
  {
   "cell_type": "code",
   "execution_count": 146,
   "id": "ce586469-6493-4e3b-aa93-4b19183e6164",
   "metadata": {},
   "outputs": [
    {
     "data": {
      "text/plain": [
       "array([[ True]])"
      ]
     },
     "execution_count": 146,
     "metadata": {},
     "output_type": "execute_result"
    }
   ],
   "source": [
    "pred"
   ]
  },
  {
   "cell_type": "code",
   "execution_count": 147,
   "id": "dc47a2b6-3ac9-4eb0-b68c-e31ed1e7f1b7",
   "metadata": {},
   "outputs": [
    {
     "name": "stderr",
     "output_type": "stream",
     "text": [
      "C:\\Users\\Krrish\\AppData\\Local\\Programs\\Python\\Python312\\Lib\\site-packages\\sklearn\\metrics\\_classification.py:409: UserWarning: A single label was found in 'y_true' and 'y_pred'. For the confusion matrix to have the correct shape, use the 'labels' parameter to pass all known labels.\n",
      "  warnings.warn(\n"
     ]
    },
    {
     "data": {
      "text/plain": [
       "array([[1]])"
      ]
     },
     "execution_count": 147,
     "metadata": {},
     "output_type": "execute_result"
    }
   ],
   "source": [
    "# confusion matrix (WITHOUT DROPOUT LAYER)\n",
    "from sklearn.metrics import confusion_matrix\n",
    "cm=confusion_matrix(output, pred)\n",
    "cm"
   ]
  },
  {
   "cell_type": "code",
   "execution_count": 148,
   "id": "57b9b761-a557-40e9-82a6-c4f01741d1dc",
   "metadata": {},
   "outputs": [
    {
     "name": "stderr",
     "output_type": "stream",
     "text": [
      "C:\\Users\\Krrish\\AppData\\Local\\Programs\\Python\\Python312\\Lib\\site-packages\\sklearn\\metrics\\_classification.py:409: UserWarning: A single label was found in 'y_true' and 'y_pred'. For the confusion matrix to have the correct shape, use the 'labels' parameter to pass all known labels.\n",
      "  warnings.warn(\n"
     ]
    },
    {
     "data": {
      "text/plain": [
       "array([[1]])"
      ]
     },
     "execution_count": 148,
     "metadata": {},
     "output_type": "execute_result"
    }
   ],
   "source": [
    "# confusion matrix(WITH DROPOUT LAYER)\n",
    "from sklearn.metrics import confusion_matrix\n",
    "cm=confusion_matrix(output, pred)\n",
    "cm"
   ]
  },
  {
   "cell_type": "code",
   "execution_count": 150,
   "id": "ddbbfd8b-74bb-49a2-825a-6c02bf3935d3",
   "metadata": {},
   "outputs": [
    {
     "data": {
      "text/plain": [
       "1.0"
      ]
     },
     "execution_count": 150,
     "metadata": {},
     "output_type": "execute_result"
    }
   ],
   "source": [
    "# calculate the accuracy\n",
    "from sklearn.metrics import accuracy_score\n",
    "score=accuracy_score(pred,output)\n",
    "score"
   ]
  },
  {
   "cell_type": "code",
   "execution_count": 154,
   "id": "fcf4fce4-26e8-4307-895b-11010c8e77ef",
   "metadata": {},
   "outputs": [],
   "source": [
    "classifier.save('fuck/ann_model.keras') "
   ]
  }
 ],
 "metadata": {
  "kernelspec": {
   "display_name": "Python 3 (ipykernel)",
   "language": "python",
   "name": "python3"
  },
  "language_info": {
   "codemirror_mode": {
    "name": "ipython",
    "version": 3
   },
   "file_extension": ".py",
   "mimetype": "text/x-python",
   "name": "python",
   "nbconvert_exporter": "python",
   "pygments_lexer": "ipython3",
   "version": "3.12.6"
  }
 },
 "nbformat": 4,
 "nbformat_minor": 5
}
